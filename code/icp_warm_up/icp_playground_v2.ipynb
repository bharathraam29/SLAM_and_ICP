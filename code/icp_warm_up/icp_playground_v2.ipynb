{
 "cells": [
  {
   "cell_type": "code",
   "execution_count": 1,
   "id": "c5dab59b-aa38-41a4-a543-8c3e82054889",
   "metadata": {},
   "outputs": [],
   "source": [
    "from sklearn.neighbors import NearestNeighbors\n",
    "import transforms3d as t3d\n",
    "from tqdm import tqdm\n",
    "\n",
    "def get_pose(init_R, init_P):\n",
    "    init_T= np.zeros([4,4])\n",
    "    init_T[:3,:3]= init_R\n",
    "    init_T[:, -1]= np.hstack((init_P, np.array([1])))\n",
    "    return init_T\n",
    "\n",
    "def get_R_and_P(T):\n",
    "    return T[:3,:3], T[:-1,-1]\n",
    "\n",
    "def get_pc_centroid(pc):\n",
    "    return pc.mean(axis=0)\n",
    "    \n",
    "def get_corres_points(target_pc_moved, source_pc):\n",
    "    kn_obj=NearestNeighbors(n_neighbors=1, algorithm='ball_tree').fit(target_pc_moved)\n",
    "    dist, idx= kn_obj.kneighbors(source_pc)\n",
    "    return np.sum(dist.flatten()), idx.flatten()\n",
    "\n",
    "def rotate_pc(R, pc):\n",
    "    return (R@ pc.T).T\n",
    "\n",
    "def ICP(source_pc, target_pc,number_of_yaw_splits=4, viz= False):\n",
    "    yaw_split= (2*np.pi)/number_of_yaw_splits\n",
    "    max_iters= 100\n",
    "    filter_dist_threshold= 0.5\n",
    "\n",
    "    sampled_target_pc= target_pc[::5]\n",
    "    sampled_source_pc= source_pc[::5]\n",
    "    euclidean_dist= []\n",
    "    best_pose=[]\n",
    "\n",
    "    for ii in range(number_of_yaw_splits):\n",
    "        yaw_val= yaw_split*ii\n",
    "        print('\\n\\n###########################\\n\\n')\n",
    "        print(\"YAW_VALUE :: \", yaw_val)\n",
    "        init_R= t3d.euler.euler2mat(0,0, yaw_val)\n",
    "        init_p=  get_pc_centroid(source_pc)- get_pc_centroid(rotate_pc(init_R,target_pc) )\n",
    "        # print(\"Initial R: \\n\",init_R)\n",
    "        # print(\"Initial P: \",init_p)\n",
    "        init_T= get_pose(init_R, init_p)\n",
    "        print(\"Initial Pose:\\n \",init_T)\n",
    "        \n",
    "\n",
    "        moved_target_pc= rotate_pc(init_R, sampled_target_pc)+init_p\n",
    "        prev_euclidean_dist= 0\n",
    "        accumulated_pose = init_T\n",
    "        dist, corres_idxs = get_corres_points(moved_target_pc,sampled_source_pc)\n",
    "        # print(dist)\n",
    "        dist_between_corresponding_pc_pts= np.linalg.norm(sampled_source_pc-moved_target_pc[corres_idxs],axis=1)\n",
    "        \n",
    "        filtered_idx = np.where(dist_between_corresponding_pc_pts < filter_dist_threshold)\n",
    "        \n",
    "        sampled_source_pc=sampled_source_pc[filtered_idx]\n",
    "        moved_target_pc=moved_target_pc[corres_idxs][filtered_idx]\n",
    "        for itr in tqdm(range(max_iters)):\n",
    "            dist, corres_idxs = get_corres_points(moved_target_pc,sampled_source_pc)\n",
    "\n",
    "            #Kabasch stuff\n",
    "            src_centroid = get_pc_centroid(sampled_source_pc)\n",
    "            tar_centroid = get_pc_centroid(moved_target_pc)\n",
    "        \n",
    "            centered_sampled_source_pc= sampled_source_pc - src_centroid\n",
    "            centered_moved_target_pc= moved_target_pc- tar_centroid\n",
    "        \n",
    "            Q= np.matmul(centered_sampled_source_pc.transpose(), centered_moved_target_pc[corres_idxs])\n",
    "            U, S, Vt = np.linalg.svd(Q, full_matrices=True)\n",
    "            R= U@Vt\n",
    "            p= src_centroid - rotate_pc(R, tar_centroid)\n",
    "\n",
    "            pred_pose= get_pose(R,p)\n",
    "            accumulated_pose= pred_pose@accumulated_pose\n",
    "\n",
    "            moved_target_pc = rotate_pc( R, moved_target_pc) + p\n",
    "            if np.abs(dist-prev_euclidean_dist) < 1e-10:\n",
    "                best_dist= dist\n",
    "                break\n",
    "            prev_euclidean_dist = dist\n",
    "        print(accumulated_pose, best_dist)\n",
    "        euclidean_dist.append(best_dist)\n",
    "        best_pose.append(accumulated_pose)\n",
    "\n",
    "\n",
    "    best_pose_pred= best_pose[np.argmin(euclidean_dist)]\n",
    "    if viz:\n",
    "        visualize_icp_result(target_pc, source_pc, best_pose_pred)\n",
    "    return best_pose_pred"
   ]
  },
  {
   "cell_type": "code",
   "execution_count": null,
   "id": "2b2de9a5-e5da-4f21-91f8-a09aeb4faa06",
   "metadata": {},
   "outputs": [],
   "source": [
    "import numpy as np\n",
    "from utils import read_canonical_model, load_pc, visualize_icp_result\n",
    "\n",
    "obj_name = 'liq_container' # drill or liq_container\n",
    "num_pc = 4 # number of point clouds\n",
    "\n",
    "source_pc = read_canonical_model(obj_name)\n",
    "\n",
    "for i in range(num_pc):\n",
    "    target_pc = load_pc(obj_name, i)\n",
    "\n",
    "    ICP(source_pc, target_pc, viz=True)"
   ]
  },
  {
   "cell_type": "code",
   "execution_count": null,
   "id": "bc52e486-134f-4f13-bac1-e8cdedccf8f7",
   "metadata": {},
   "outputs": [
    {
     "name": "stdout",
     "output_type": "stream",
     "text": [
      "\n",
      "\n",
      "###########################\n",
      "\n",
      "\n",
      "YAW_VALUE ::  0.0\n",
      "Initial Pose:\n",
      "  [[ 1.          0.          0.         -0.58054619]\n",
      " [ 0.          1.          0.         -0.0134431 ]\n",
      " [-0.          0.          1.         -0.0444727 ]\n",
      " [ 0.          0.          0.          1.        ]]\n"
     ]
    },
    {
     "name": "stderr",
     "output_type": "stream",
     "text": [
      "  0%|          | 0/100 [00:00<?, ?it/s]"
     ]
    },
    {
     "name": "stderr",
     "output_type": "stream",
     "text": [
      " 13%|█▎        | 13/100 [00:00<00:04, 21.13it/s]\n"
     ]
    },
    {
     "name": "stdout",
     "output_type": "stream",
     "text": [
      "[[ 0.57070198  0.75051682  0.33320225 -0.35853335]\n",
      " [-0.63551817  0.66065078 -0.39957127  0.38557201]\n",
      " [-0.52001529  0.01628003  0.85400179  0.26297578]\n",
      " [ 0.          0.          0.          1.        ]] 60.39366276144702\n",
      "\n",
      "\n",
      "###########################\n",
      "\n",
      "\n",
      "YAW_VALUE ::  1.5707963267948966\n",
      "Initial Pose:\n",
      "  [[ 6.12323400e-17 -1.00000000e+00  0.00000000e+00  1.34431000e-02]\n",
      " [ 1.00000000e+00  6.12323400e-17  0.00000000e+00 -5.80546193e-01]\n",
      " [-0.00000000e+00  0.00000000e+00  1.00000000e+00 -4.44727001e-02]\n",
      " [ 0.00000000e+00  0.00000000e+00  0.00000000e+00  1.00000000e+00]]\n"
     ]
    },
    {
     "name": "stderr",
     "output_type": "stream",
     "text": [
      " 14%|█▍        | 14/100 [00:00<00:02, 29.60it/s]\n"
     ]
    },
    {
     "name": "stdout",
     "output_type": "stream",
     "text": [
      "[[-0.48012215 -0.86082058 -0.1687325   0.29986566]\n",
      " [ 0.69314197 -0.49018531  0.52846245 -0.42626506]\n",
      " [-0.53762155  0.13677095  0.8320197   0.27271061]\n",
      " [ 0.          0.          0.          1.        ]] 57.78846438259848\n",
      "\n",
      "\n",
      "###########################\n",
      "\n",
      "\n",
      "YAW_VALUE ::  3.141592653589793\n",
      "Initial Pose:\n",
      "  [[-1.00000000e+00 -1.22464680e-16  0.00000000e+00  5.80546193e-01]\n",
      " [ 1.22464680e-16 -1.00000000e+00  0.00000000e+00  1.34431000e-02]\n",
      " [-0.00000000e+00  0.00000000e+00  1.00000000e+00 -4.44727001e-02]\n",
      " [ 0.00000000e+00  0.00000000e+00  0.00000000e+00  1.00000000e+00]]\n"
     ]
    },
    {
     "name": "stderr",
     "output_type": "stream",
     "text": [
      " 13%|█▎        | 13/100 [00:00<00:02, 30.96it/s]\n"
     ]
    },
    {
     "name": "stdout",
     "output_type": "stream",
     "text": [
      "[[-0.57857396 -0.73173484 -0.36030029  0.3646459 ]\n",
      " [ 0.60505932 -0.68128476  0.4120125  -0.36885149]\n",
      " [-0.54695099  0.02037666  0.8369166   0.28167931]\n",
      " [ 0.          0.          0.          1.        ]] 59.760128953475856\n",
      "\n",
      "\n",
      "###########################\n",
      "\n",
      "\n",
      "YAW_VALUE ::  4.71238898038469\n",
      "Initial Pose:\n",
      "  [[-1.83697020e-16  1.00000000e+00 -0.00000000e+00 -1.34431000e-02]\n",
      " [-1.00000000e+00 -1.83697020e-16  0.00000000e+00  5.80546193e-01]\n",
      " [-0.00000000e+00  0.00000000e+00  1.00000000e+00 -4.44727001e-02]\n",
      " [ 0.00000000e+00  0.00000000e+00  0.00000000e+00  1.00000000e+00]]\n"
     ]
    },
    {
     "name": "stderr",
     "output_type": "stream",
     "text": [
      " 13%|█▎        | 13/100 [00:00<00:01, 60.54it/s]\n"
     ]
    },
    {
     "name": "stdout",
     "output_type": "stream",
     "text": [
      "[[ 0.47909798  0.85201476  0.21103547 -0.30114963]\n",
      " [-0.69804816  0.5155935  -0.49688239  0.4279043 ]\n",
      " [-0.53215965  0.09074243  0.84176714  0.27205844]\n",
      " [ 0.          0.          0.          1.        ]] 52.71105717365515\n",
      "[Open3D WARNING] GLFW Error: WGL: Failed to make context current: The handle is invalid. \n",
      "[Open3D WARNING] GLFW Error: WGL: Failed to make context current: The handle is invalid. \n"
     ]
    }
   ],
   "source": [
    "import transforms3d as t3d\n",
    "from tqdm import tqdm\n",
    "number_of_yaw_splits= 4\n",
    "yaw_split= (2*np.pi)/number_of_yaw_splits\n",
    "max_iters= 100\n",
    "filter_dist_threshold= 0.5\n",
    "\n",
    "sampled_target_pc= target_pc[::5]\n",
    "sampled_source_pc= source_pc[::5]\n",
    "euclidean_dist= []\n",
    "best_pose=[]\n",
    "\n",
    "for ii in range(number_of_yaw_splits):\n",
    "    yaw_val= yaw_split*ii\n",
    "    print('\\n\\n###########################\\n\\n')\n",
    "    print(\"YAW_VALUE :: \", yaw_val)\n",
    "    init_R= t3d.euler.euler2mat(0,0, yaw_val)\n",
    "    init_p=  get_pc_centroid(source_pc)- get_pc_centroid(rotate_pc(init_R,target_pc) )\n",
    "    # print(\"Initial R: \\n\",init_R)\n",
    "    # print(\"Initial P: \",init_p)\n",
    "    init_T= get_pose(init_R, init_p)\n",
    "    # print(\"Initial Pose:\\n \",init_T)\n",
    "    \n",
    "\n",
    "    moved_target_pc= rotate_pc(init_R, sampled_target_pc)+init_p\n",
    "    prev_euclidean_dist= 0\n",
    "    accumulated_pose = init_T\n",
    "    dist, corres_idxs = get_corres_points(moved_target_pc,sampled_source_pc)\n",
    "    # print(dist)\n",
    "    dist_between_corresponding_pc_pts= np.linalg.norm(sampled_source_pc-moved_target_pc[corres_idxs],axis=1)\n",
    "    \n",
    "    filtered_idx = np.where(dist_between_corresponding_pc_pts < filter_dist_threshold)\n",
    "    \n",
    "    sampled_source_pc=sampled_source_pc[filtered_idx]\n",
    "    moved_target_pc=moved_target_pc[corres_idxs][filtered_idx]\n",
    "    for itr in tqdm(range(max_iters)):\n",
    "        dist, corres_idxs = get_corres_points(moved_target_pc,sampled_source_pc)\n",
    "\n",
    "        #Kabasch stuff\n",
    "        src_centroid = get_pc_centroid(sampled_source_pc)\n",
    "        tar_centroid = get_pc_centroid(moved_target_pc)\n",
    "    \n",
    "        centered_sampled_source_pc= sampled_source_pc - src_centroid\n",
    "        centered_moved_target_pc= moved_target_pc- tar_centroid\n",
    "    \n",
    "        Q= np.matmul(centered_sampled_source_pc.transpose(), centered_moved_target_pc[corres_idxs])\n",
    "        U, S, Vt = np.linalg.svd(Q, full_matrices=True)\n",
    "        R= U@Vt\n",
    "        p= src_centroid - rotate_pc(R, tar_centroid)\n",
    "\n",
    "        pred_pose= get_pose(R,p)\n",
    "        accumulated_pose= pred_pose@accumulated_pose\n",
    "\n",
    "        moved_target_pc = rotate_pc( R, moved_target_pc) + p\n",
    "        if np.abs(dist-prev_euclidean_dist) < 1e-10:\n",
    "            best_dist= dist\n",
    "            break\n",
    "        prev_euclidean_dist = dist\n",
    "    # print(accumulated_pose, best_dist)\n",
    "    euclidean_dist.append(best_dist)\n",
    "    best_pose.append(accumulated_pose)\n",
    "\n",
    "\n",
    "best_pose_pred= best_pose[np.argmin(euclidean_dist)]\n",
    "visualize_icp_result(target_pc, source_pc, best_pose_pred)\n"
   ]
  },
  {
   "cell_type": "code",
   "execution_count": 33,
   "id": "eb1ff3d9-90b6-45ac-b628-79bcfa97399d",
   "metadata": {},
   "outputs": [],
   "source": []
  },
  {
   "cell_type": "code",
   "execution_count": null,
   "id": "bc7c68bc",
   "metadata": {},
   "outputs": [],
   "source": []
  },
  {
   "cell_type": "code",
   "execution_count": null,
   "id": "df4f2bfb",
   "metadata": {},
   "outputs": [],
   "source": []
  },
  {
   "cell_type": "code",
   "execution_count": null,
   "id": "a64b27f3",
   "metadata": {},
   "outputs": [],
   "source": []
  },
  {
   "cell_type": "code",
   "execution_count": null,
   "id": "08a98793",
   "metadata": {},
   "outputs": [],
   "source": []
  }
 ],
 "metadata": {
  "kernelspec": {
   "display_name": "Python 3 (ipykernel)",
   "language": "python",
   "name": "python3"
  },
  "language_info": {
   "codemirror_mode": {
    "name": "ipython",
    "version": 3
   },
   "file_extension": ".py",
   "mimetype": "text/x-python",
   "name": "python",
   "nbconvert_exporter": "python",
   "pygments_lexer": "ipython3",
   "version": "3.11.9"
  }
 },
 "nbformat": 4,
 "nbformat_minor": 5
}
