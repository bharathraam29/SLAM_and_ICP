{
 "cells": [
  {
   "cell_type": "code",
   "execution_count": 10,
   "id": "c29e2f6c-d4f8-47c2-b7c6-74d99883cc7e",
   "metadata": {},
   "outputs": [],
   "source": [
    "# given target and source \n",
    "# move source pc\n",
    "import ICP_stuff\n",
    "from tqdm import tqdm\n",
    "from scipy.spatial.distance import cdist\n",
    "import numpy as np\n",
    "\n",
    "def icp_corres(source, target):\n",
    "    dist=cdist(source, target)\n",
    "    idxs= np.argmin(dist, axis= 1)\n",
    "    cost= np.linalg.norm(target[idxs],source).mean()\n",
    "    return cost, idxs\n",
    "\n",
    "def icp_loop_runner(source_pc, target_pc, init_T, max_iters=100 ):\n",
    "    R, p= ICP_stuff.get_R_and_P(init_T)\n",
    "    prev_dist= np.inf\n",
    "    print(R,p)\n",
    "    for itr in tqdm(range(max_iters)):\n",
    "        moved_src_pc= ICP_stuff.rotate_pc(R, source_pc) + p\n",
    "        dist, idxs = icp_corres(moved_src_pc,target_pc)\n",
    "        src_centroid = ICP_stuff.get_pc_centroid(moved_src_pc)\n",
    "        tar_centroid = ICP_stuff.get_pc_centroid(target_pc[idxs])\n",
    "        centred_src_pc= moved_src_pc - src_centroid\n",
    "        centred_tar_pc= target_pc[idxs] - tar_centroid\n",
    "        import ipdb; ipdb.set_trace()\n",
    "        Q= centred_src_pc.T @ centred_tar_pc\n",
    "        # import ipdb; ipdb.set_trace()        \n",
    "        U, S, Vt = np.linalg.svd(Q, full_matrices=True)\n",
    "        diag_mat= np.diag([1,1,np.linalg.det(U@Vt)])\n",
    "        R= U@diag_mat@Vt\n",
    "        p= tar_centroid - R @ src_centroid\n",
    "        \n",
    "        if np.abs(dist-prev_dist) < 1e-5:\n",
    "            return dist, ICP_stuff.get_pose(R,p)\n",
    "            break\n",
    "        prev_dist= dist\n",
    "    return prev_dist, ICP_stuff.get_pose(R,p)"
   ]
  },
  {
   "cell_type": "code",
   "execution_count": 33,
   "id": "5d4bbb2d-d865-4903-aa20-de92483056fa",
   "metadata": {},
   "outputs": [
    {
     "name": "stdout",
     "output_type": "stream",
     "text": [
      "\n",
      "\n",
      "###########################\n",
      "\n",
      "\n",
      "YAW_VALUE ::  0.0\n",
      "Initial Pose:\n",
      "  [[ 1.  0.  0.  0.]\n",
      " [ 0.  1.  0.  0.]\n",
      " [-0.  0.  1.  0.]\n",
      " [ 0.  0.  0.  1.]]\n",
      "[[ 1.  0.  0.]\n",
      " [ 0.  1.  0.]\n",
      " [-0.  0.  1.]] [0. 0. 0.]\n"
     ]
    },
    {
     "name": "stderr",
     "output_type": "stream",
     "text": [
      "100%|██████████| 100/100 [00:08<00:00, 12.12it/s]\n"
     ]
    },
    {
     "name": "stdout",
     "output_type": "stream",
     "text": [
      "\n",
      "\n",
      "###########################\n",
      "\n",
      "\n",
      "YAW_VALUE ::  1.5707963267948966\n",
      "Initial Pose:\n",
      "  [[ 6.123234e-17 -1.000000e+00  0.000000e+00  0.000000e+00]\n",
      " [ 1.000000e+00  6.123234e-17  0.000000e+00  0.000000e+00]\n",
      " [-0.000000e+00  0.000000e+00  1.000000e+00  0.000000e+00]\n",
      " [ 0.000000e+00  0.000000e+00  0.000000e+00  1.000000e+00]]\n",
      "[[ 6.123234e-17 -1.000000e+00  0.000000e+00]\n",
      " [ 1.000000e+00  6.123234e-17  0.000000e+00]\n",
      " [-0.000000e+00  0.000000e+00  1.000000e+00]] [0. 0. 0.]\n"
     ]
    },
    {
     "name": "stderr",
     "output_type": "stream",
     "text": [
      "100%|██████████| 100/100 [00:09<00:00, 10.40it/s]\n"
     ]
    },
    {
     "name": "stdout",
     "output_type": "stream",
     "text": [
      "\n",
      "\n",
      "###########################\n",
      "\n",
      "\n",
      "YAW_VALUE ::  3.141592653589793\n",
      "Initial Pose:\n",
      "  [[-1.0000000e+00 -1.2246468e-16  0.0000000e+00  0.0000000e+00]\n",
      " [ 1.2246468e-16 -1.0000000e+00  0.0000000e+00  0.0000000e+00]\n",
      " [-0.0000000e+00  0.0000000e+00  1.0000000e+00  0.0000000e+00]\n",
      " [ 0.0000000e+00  0.0000000e+00  0.0000000e+00  1.0000000e+00]]\n",
      "[[-1.0000000e+00 -1.2246468e-16  0.0000000e+00]\n",
      " [ 1.2246468e-16 -1.0000000e+00  0.0000000e+00]\n",
      " [-0.0000000e+00  0.0000000e+00  1.0000000e+00]] [0. 0. 0.]\n"
     ]
    },
    {
     "name": "stderr",
     "output_type": "stream",
     "text": [
      "100%|██████████| 100/100 [00:10<00:00,  9.81it/s]\n"
     ]
    },
    {
     "name": "stdout",
     "output_type": "stream",
     "text": [
      "\n",
      "\n",
      "###########################\n",
      "\n",
      "\n",
      "YAW_VALUE ::  4.71238898038469\n",
      "Initial Pose:\n",
      "  [[-1.8369702e-16  1.0000000e+00 -0.0000000e+00  0.0000000e+00]\n",
      " [-1.0000000e+00 -1.8369702e-16  0.0000000e+00  0.0000000e+00]\n",
      " [-0.0000000e+00  0.0000000e+00  1.0000000e+00  0.0000000e+00]\n",
      " [ 0.0000000e+00  0.0000000e+00  0.0000000e+00  1.0000000e+00]]\n",
      "[[-1.8369702e-16  1.0000000e+00 -0.0000000e+00]\n",
      " [-1.0000000e+00 -1.8369702e-16  0.0000000e+00]\n",
      " [-0.0000000e+00  0.0000000e+00  1.0000000e+00]] [0. 0. 0.]\n"
     ]
    },
    {
     "name": "stderr",
     "output_type": "stream",
     "text": [
      "100%|██████████| 100/100 [00:09<00:00, 11.02it/s]\n"
     ]
    }
   ],
   "source": [
    "import transforms3d as t3d\n",
    "number_of_yaw_splits=4\n",
    "\n",
    "yaw_split= (2*np.pi)/number_of_yaw_splits\n",
    "max_iters= 100\n",
    "\n",
    "euclidean_dist= []\n",
    "best_pose=[]\n",
    "\n",
    "for ii in range(number_of_yaw_splits):\n",
    "    yaw_val= yaw_split*ii\n",
    "    print('\\n\\n###########################\\n\\n')\n",
    "    print(\"YAW_VALUE :: \", yaw_val)\n",
    "    init_R= t3d.euler.euler2mat(0,0, yaw_val)\n",
    "    init_p= np.zeros(3)\n",
    "    init_T= ICP_stuff.get_pose(init_R, init_p)\n",
    "    print(\"Initial Pose:\\n \",init_T)\n",
    "    # target_pc= target_pc[::5]\n",
    "    # source_pc= source_pc[::5]\n",
    "    dist, pose= icp_loop_runner_v2(source_pc, target_pc, init_T, max_iters=100 )\n",
    "    best_pose.append(pose)\n",
    "    euclidean_dist.append(dist)"
   ]
  },
  {
   "cell_type": "code",
   "execution_count": 4,
   "id": "a69cbbbc-9620-4ca0-a3be-9903e8454ef3",
   "metadata": {},
   "outputs": [
    {
     "name": "stdout",
     "output_type": "stream",
     "text": [
      "Jupyter environment detected. Enabling Open3D WebVisualizer.\n",
      "[Open3D INFO] WebRTC GUI backend enabled.\n",
      "[Open3D INFO] WebRTCWindowSystem: HTTP handshake server disabled.\n"
     ]
    }
   ],
   "source": [
    "import numpy as np\n",
    "from utils import read_canonical_model, load_pc, visualize_icp_result\n",
    "\n",
    "obj_name = 'drill' # drill or liq_container\n",
    "num_pc = 4 # number of point clouds\n",
    "\n",
    "source_pc = read_canonical_model(obj_name)\n",
    "\n",
    "for i in range(num_pc):\n",
    "    target_pc = load_pc(obj_name, i)\n",
    "    break\n",
    "    # ICP(target_pc,source_pc, viz=True, number_of_yaw_splits=36  )\n",
    "    # break"
   ]
  },
  {
   "cell_type": "code",
   "execution_count": null,
   "id": "78462cc7-ba41-44f7-9dde-74589c5002bf",
   "metadata": {},
   "outputs": [],
   "source": [
    "def ICP(source_pc, target_pc,init_T):\n",
    "    max_iters= 100\n",
    "    filter_dist_threshold= 0.5\n",
    "\n",
    "    sampled_target_pc= target_pc[::]\n",
    "    sampled_source_pc= source_pc[::]\n",
    "    euclidean_dist= []\n",
    "    best_pose=[]\n",
    "\n",
    "\n",
    "    # print(\"Initial Pose:\\n \",init_T)\n",
    "    init_R, init_p= get_R_and_P(init_T)  \n",
    "\n",
    "    moved_target_pc= rotate_pc(init_R, sampled_target_pc)+init_p\n",
    "    prev_euclidean_dist= 0\n",
    "    accumulated_pose = init_T\n",
    "    dist, corres_idxs = get_corres_points(moved_target_pc,sampled_source_pc)\n",
    "    # print(dist)\n",
    "    dist_between_corresponding_pc_pts= np.linalg.norm(sampled_source_pc-moved_target_pc[corres_idxs],axis=1)\n",
    "    \n",
    "    filtered_idx = np.where(dist_between_corresponding_pc_pts < filter_dist_threshold)\n",
    "    \n",
    "    sampled_source_pc=sampled_source_pc[filtered_idx]\n",
    "    # moved_target_pc=moved_target_pc[corres_idxs][filtered_idx]\n",
    "    moved_target_pc = moved_target_pc[corres_idxs][filtered_idx]\n",
    "    for itr in (range(max_iters)):\n",
    "        dist, corres_idxs = get_corres_points(moved_target_pc,sampled_source_pc)\n",
    "\n",
    "        #Kabasch stuff\n",
    "        src_centroid = get_pc_centroid(sampled_source_pc)\n",
    "        tar_centroid = get_pc_centroid(moved_target_pc)\n",
    "    \n",
    "        centered_sampled_source_pc= sampled_source_pc - src_centroid\n",
    "        centered_moved_target_pc= moved_target_pc- tar_centroid\n",
    "    \n",
    "        Q= np.matmul(centered_sampled_source_pc.transpose(), centered_moved_target_pc[corres_idxs])\n",
    "        U, S, Vt = np.linalg.svd(Q, full_matrices=True)\n",
    "        R= U@np.diag([1,1,np.linalg.det(U@Vt)])@Vt\n",
    "        \n",
    "        p= src_centroid - rotate_pc(R, tar_centroid)\n",
    "\n",
    "        pred_pose= get_pose(R,p)\n",
    "        accumulated_pose= pred_pose@accumulated_pose\n",
    "\n",
    "        moved_target_pc = rotate_pc( R, moved_target_pc) + p\n",
    "        if np.abs(dist-prev_euclidean_dist) < 1e-10:\n",
    "            best_dist= dist\n",
    "            best_pose = accumulated_pose\n",
    "            return best_pose\n",
    "            break\n",
    "        prev_euclidean_dist = dist\n",
    "        # print(dist)\n",
    "    # print(accumulated_pose, best_dist)\n",
    "    euclidean_dist.append(best_dist)\n",
    "    best_pose.append(accumulated_pose)\n",
    "    return accumulated_pose"
   ]
  },
  {
   "cell_type": "code",
   "execution_count": 16,
   "id": "e75690c8-6dc6-4ea9-ad2a-4b2a74c6f501",
   "metadata": {},
   "outputs": [],
   "source": [
    "def icp_loop_runner_v2(source_pc, target_pc, init_T, max_iters=100 ):\n",
    "    R, p= ICP_stuff.get_R_and_P(init_T)\n",
    "    prev_dist= np.inf\n",
    "    print(R,p)\n",
    "    accumulated_pose= np.identity(4)\n",
    "    for itr in tqdm(range(max_iters)):\n",
    "        moved_src_pc= ICP_stuff.rotate_pc(R, source_pc) + p\n",
    "        dist, idxs = get_corres_points_v2(moved_src_pc,target_pc)\n",
    "        # Kabasch stuff\n",
    "        src_centroid = ICP_stuff.get_pc_centroid(moved_src_pc)\n",
    "        tar_centroid = ICP_stuff.get_pc_centroid(target_pc[idxs])\n",
    "        centred_src_pc= moved_src_pc - src_centroid\n",
    "        centred_tar_pc= target_pc[idxs] - tar_centroid\n",
    "        # import ipdb; ipdb.set_trace()\n",
    "        Q= centred_src_pc.T @ centred_tar_pc\n",
    "        # import ipdb; ipdb.set_trace()        \n",
    "        U, S, Vt = np.linalg.svd(Q, full_matrices=True)\n",
    "        diag_mat= np.diag([1,1,np.linalg.det(U@Vt)])\n",
    "        R= U@diag_mat@Vt\n",
    "        p= tar_centroid - R @ src_centroid\n",
    "        accumulated_pose= accumulated_pose@ICP_stuff.get_pose(R,p) \n",
    "        if np.abs(dist-prev_dist) < 1e-5:\n",
    "            return dist, accumulated_pose\n",
    "            break\n",
    "        prev_dist= dist\n",
    "        \n",
    "    return prev_dist, ICP_stuff.get_pose(R,p)"
   ]
  },
  {
   "cell_type": "code",
   "execution_count": 32,
   "id": "418448c5-f7a0-4844-bea3-d36fe82c2085",
   "metadata": {},
   "outputs": [],
   "source": [
    "from sklearn.neighbors import NearestNeighbors\n",
    "import transforms3d as t3d\n",
    "def get_corres_points_v2(source_pc, target_pc):\n",
    "    kn_obj=NearestNeighbors(n_neighbors=1).fit(target_pc)\n",
    "    dist, idx= kn_obj.kneighbors(source_pc)\n",
    "    idxs= idx.flatten()\n",
    "    cost= (np.linalg.norm(target_pc[idxs]-source_pc, axis=1)**2).mean()\n",
    "    return cost, idxs"
   ]
  },
  {
   "cell_type": "code",
   "execution_count": null,
   "id": "39136957-0cb3-47d9-996a-2f4015d1dab1",
   "metadata": {},
   "outputs": [],
   "source": []
  }
 ],
 "metadata": {
  "kernelspec": {
   "display_name": "Python 3 (ipykernel)",
   "language": "python",
   "name": "python3"
  },
  "language_info": {
   "codemirror_mode": {
    "name": "ipython",
    "version": 3
   },
   "file_extension": ".py",
   "mimetype": "text/x-python",
   "name": "python",
   "nbconvert_exporter": "python",
   "pygments_lexer": "ipython3",
   "version": "3.11.9"
  }
 },
 "nbformat": 4,
 "nbformat_minor": 5
}
