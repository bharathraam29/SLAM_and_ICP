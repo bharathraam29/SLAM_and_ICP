{
 "cells": [
  {
   "cell_type": "code",
   "execution_count": 5,
   "id": "cfc6cdeb-2e77-4eb1-a941-34c1ebf7a144",
   "metadata": {},
   "outputs": [],
   "source": [
    "import sys\n",
    "sys.path.insert(0, \"/home/bradhakrishnan/ECE276A_PR2/code\")\n",
    "data_base_path= \"/home/bradhakrishnan/ECE276A_PR2/data/\""
   ]
  },
  {
   "cell_type": "markdown",
   "id": "125e01cc-de14-480f-bd80-ac60c642917f",
   "metadata": {},
   "source": [
    "# Encoder and IMU odometry: \n",
    "\n",
    "Use linear velocity vt obtained from the encoders and\n",
    "yaw rate ωt obtained from the IMU to predict the robot motion via the differential-drive motion\n",
    "model. Assume the robot starts with identity pose. To verify that your motion model predictions\n",
    "are accurate, plot the robot trajectory. You can also build a complete 2-D occupancy-grid map\n",
    "by combining this trajectory with mapping before implementing scan matching."
   ]
  },
  {
   "cell_type": "code",
   "execution_count": 6,
   "id": "96ce1faa-4b27-4a7c-b369-622efb92926c",
   "metadata": {},
   "outputs": [],
   "source": [
    "import numpy as np\n",
    "import jax.numpy as jnp\n",
    "from jax.scipy.linalg import expm\n",
    "import jax\n",
    "import matplotlib.pyplot as plt\n",
    "import load_data \n",
    "\n",
    "jax.config.update(\"jax_enable_x64\", True)\n",
    "\n",
    "\n",
    "encoder_data= np.load(data_base_path+\"Encoders20.npz\")\n",
    "imu_data= np.load(data_base_path+'Imu20.npz')"
   ]
  },
  {
   "cell_type": "code",
   "execution_count": 7,
   "id": "3dafa8a8-64fa-4863-baec-7b25bc9c10b2",
   "metadata": {},
   "outputs": [],
   "source": [
    "imu_angular = imu_data['angular_velocity']\n",
    "imu_linear = imu_data['linear_acceleration']\n",
    "imu_ts = imu_data['time_stamps']\n",
    "\n",
    "# DATA format of encoder: [FR, FL, RR, RL]\n",
    "encoder_counts= encoder_data[\"counts\"]\n",
    "encoder_ts= encoder_data[\"time_stamps\"]\n",
    "\n",
    "(encoder_counts, encoder_ts,\n",
    "lidar_angle_min, lidar_angle_max, lidar_angle_increment,\n",
    "lidar_range_min, lidar_range_max, lidar_ranges, lidar_stamps,\n",
    "imu_angular, imu_linear, imu_ts,\n",
    "disp_stamps, rgb_stamps) = load_data.load_dataset(20)"
   ]
  },
  {
   "cell_type": "code",
   "execution_count": 8,
   "id": "6b754812-942e-45d2-bce0-8e5013a0bb9e",
   "metadata": {},
   "outputs": [
    {
     "data": {
      "text/plain": [
       "(3, 12187)"
      ]
     },
     "execution_count": 8,
     "metadata": {},
     "output_type": "execute_result"
    }
   ],
   "source": [
    "def dist_travelled(encoder_data):\n",
    "    right= (encoder_data[0]+encoder_data[2])/2 * 0.0022\n",
    "    left= (encoder_data[1]+encoder_data[3])/2 * 0.0022\n",
    "    return left, right\n",
    "ls=[]\n",
    "rs=[]\n",
    "for ii in range(encoder_counts.shape[-1]):\n",
    "    l,r=(dist_travelled(encoder_counts[:,ii]))\n",
    "    ls.append(l)\n",
    "    rs.append(r)\n",
    "\n",
    "imu_linear.shape\n",
    "\n"
   ]
  },
  {
   "cell_type": "markdown",
   "id": "b2023335-ad97-444c-8d41-48ed3f0c621c",
   "metadata": {},
   "source": [
    "# Find Linear Velocity from encoders "
   ]
  },
  {
   "cell_type": "code",
   "execution_count": 5,
   "id": "2e9a457e-dd01-49a4-8527-0155654e6e95",
   "metadata": {
    "scrolled": true
   },
   "outputs": [],
   "source": [
    "def velocity_calculator(encoder_data, encoder_ts):\n",
    "    #skipping the 0th index\n",
    "    del_ts= encoder_ts[1:] - encoder_ts[:-1]\n",
    "    VL = 0.5*jnp.sum(encoder_data[[0, 2], 1:], axis=0)*0.0022/del_ts\n",
    "    VR = 0.5*np.sum(encoder_data[[1, 3], 1:], axis=0)*0.0022/del_ts\n",
    "    robo_vel = (VL+VR)/2\n",
    "    return robo_vel\n",
    "    \n",
    "robo_vel=velocity_calculator(encoder_counts, encoder_ts)\n"
   ]
  },
  {
   "cell_type": "code",
   "execution_count": 6,
   "id": "b583f702-956b-4865-9ee9-c54e66fc05e3",
   "metadata": {},
   "outputs": [],
   "source": [
    "def twist_creator(pose, lin_vel, ang_vel):\n",
    "    # Create a 4x4 matrix of zeros\n",
    "    twist = np.zeros((4, 4))\n",
    "    \n",
    "    # Set the last column to lin_vel (with a zero appended at the end)\n",
    "    vel_x= lin_vel*pose[0,0] # v cos(theta)\n",
    "    vel_y= lin_vel*pose[1,0] # v sin(theta)\n",
    "    vel_z=0\n",
    "    twist[0:3, 3] = jnp.array([vel_x, vel_y, vel_z])\n",
    "    \n",
    "    # Set the element at first row, second column to -ang_vel[2]\n",
    "    twist[0, 1] = -ang_vel[2]\n",
    "    \n",
    "    # Set the element at second row, first column to the third element of lin_vel\n",
    "    twist[1, 0] = ang_vel[2]\n",
    "    \n",
    "    return twist"
   ]
  },
  {
   "cell_type": "code",
   "execution_count": 6,
   "id": "ad769091-8396-468b-adda-2be22023371a",
   "metadata": {
    "scrolled": true
   },
   "outputs": [],
   "source": [
    "def time_sync(time_stamp_1, time_stamp_2):\n",
    "    ts_synced = {}\n",
    "    for ts in time_stamp_1:\n",
    "        ts_synced[ts] = np.argmin(np.abs(ts-time_stamp_2))\n",
    "    return ts_synced\n",
    "\n",
    "imu_sync_map= time_sync(encoder_ts[1:], imu_ts[:-1])"
   ]
  },
  {
   "cell_type": "markdown",
   "id": "6d34434f-4eaf-4319-aaeb-e784cf28fe75",
   "metadata": {},
   "source": [
    "# Motion Model"
   ]
  },
  {
   "cell_type": "code",
   "execution_count": 57,
   "id": "c4fecd48-91d4-4f55-962a-90132e8c1fff",
   "metadata": {
    "scrolled": true
   },
   "outputs": [],
   "source": [
    "T_0= jnp.eye(4)\n",
    "poses= [T_0]\n",
    "del_ts= encoder_ts[1:] - encoder_ts[:-1]\n",
    "for ii in range(0,encoder_counts.shape[-1]-1):\n",
    "    ang_vel= imu_angular[:,imu_sync_map[encoder_ts[ii+1]]]\n",
    "    lin_vel= robo_vel[ii]\n",
    "    del_T= del_ts[ii]\n",
    "    twist= twist_creator(poses[ii],lin_vel,ang_vel)\n",
    "    pred_T= poses[ii]@expm(del_T* twist)\n",
    "    poses.append(pred_T)\n",
    "    \n",
    "poses= jnp.array(poses)"
   ]
  },
  {
   "cell_type": "code",
   "execution_count": 58,
   "id": "ec2ad20c-57f1-40eb-8d7b-802db652488a",
   "metadata": {},
   "outputs": [
    {
     "data": {
      "text/plain": [
       "Array([[ 9.99999993e-01, -1.16761034e-04,  0.00000000e+00,\n",
       "         0.00000000e+00],\n",
       "       [ 1.16761034e-04,  9.99999993e-01,  0.00000000e+00,\n",
       "         0.00000000e+00],\n",
       "       [ 0.00000000e+00,  0.00000000e+00,  1.00000000e+00,\n",
       "         0.00000000e+00],\n",
       "       [ 0.00000000e+00,  0.00000000e+00,  0.00000000e+00,\n",
       "         1.00000000e+00]], dtype=float64)"
      ]
     },
     "execution_count": 58,
     "metadata": {},
     "output_type": "execute_result"
    }
   ],
   "source": []
  },
  {
   "cell_type": "code",
   "execution_count": 59,
   "id": "89eafe75-0178-41b6-b5ac-f4bcd3b6792d",
   "metadata": {},
   "outputs": [],
   "source": [
    "xy_positions = jnp.array([ [pose[0, 3], pose[1, 3]] for pose in poses ])\n"
   ]
  },
  {
   "cell_type": "code",
   "execution_count": 60,
   "id": "e48cd460-5e81-4d68-8443-ce11be599abd",
   "metadata": {},
   "outputs": [
    {
     "data": {
      "image/png": "[encoded data removed]",
      "text/plain": [
       "<Figure size 600x600 with 1 Axes>"
      ]
     },
     "metadata": {},
     "output_type": "display_data"
    }
   ],
   "source": [
    "import matplotlib.pyplot as plt\n",
    "# Plot the trajectory in the xy plane.\n",
    "xy_positions = jnp.array([ [pose[0, 3], pose[1, 3]] for pose in poses ])\n",
    "\n",
    "plt.figure(figsize=(6, 6))\n",
    "plt.plot(xy_positions[:, 0], xy_positions[:, 1], label='Trajectory')\n",
    "plt.xlabel('X')\n",
    "plt.ylabel('Y')\n",
    "plt.title('Trajectory in XY Plane')\n",
    "plt.grid(True)\n",
    "plt.axis('equal')  # Ensure equal scaling on both axes.\n",
    "plt.legend()\n",
    "plt.show()"
   ]
  },
  {
   "cell_type": "markdown",
   "id": "2e3c26f0-5b53-466e-89c8-6566e7ea4d78",
   "metadata": {},
   "source": [
    "# Using SE(2)"
   ]
  },
  {
   "cell_type": "code",
   "execution_count": 7,
   "id": "6e9fc73e-368b-45ac-a68d-56f6cde2ecdf",
   "metadata": {},
   "outputs": [],
   "source": [
    "intial_traj=jnp.zeros(3)\n",
    "traj=[intial_traj]\n",
    "del_ts= encoder_ts[1:] - encoder_ts[:-1]\n",
    "\n",
    "for ii in range(0,encoder_counts.shape[-1]-1):\n",
    "    del_t= del_ts[ii]\n",
    "    curr_traj= traj[ii]\n",
    "    lin_vel= robo_vel[ii]\n",
    "    ang_vel= imu_angular[:,imu_sync_map[encoder_ts[ii+1]]][-1]\n",
    "    traj_pred=curr_traj+del_t*np.array([lin_vel*jnp.cos(curr_traj[-1]),lin_vel*jnp.sin(curr_traj[-1]),ang_vel])\n",
    "    traj.append(traj_pred)\n",
    "\n",
    "\n",
    "traj=np.array(traj).T"
   ]
  },
  {
   "cell_type": "code",
   "execution_count": 8,
   "id": "c1b9bdb6-74a4-467b-ac38-607b9d384e51",
   "metadata": {},
   "outputs": [
    {
     "data": {
      "text/plain": [
       "Text(0.5, 1.0, 'Trajectory')"
      ]
     },
     "execution_count": 8,
     "metadata": {},
     "output_type": "execute_result"
    },
    {
     "data": {
      "image/png": "[encoded data removed]",
      "text/plain": [
       "<Figure size 640x480 with 1 Axes>"
      ]
     },
     "metadata": {},
     "output_type": "display_data"
    }
   ],
   "source": [
    "plt.plot(traj[0, :], traj[1, :])\n",
    "plt.xlabel('X')\n",
    "plt.ylabel('Y')\n",
    "plt.title('Trajectory')\n"
   ]
  },
  {
   "cell_type": "code",
   "execution_count": 9,
   "id": "d6594f2d-f809-49bf-9c36-cf07892939bf",
   "metadata": {},
   "outputs": [
    {
     "data": {
      "text/plain": [
       "array(2.35619449)"
      ]
     },
     "execution_count": 9,
     "metadata": {},
     "output_type": "execute_result"
    }
   ],
   "source": [
    "lidar_angle_max "
   ]
  },
  {
   "cell_type": "code",
   "execution_count": null,
   "id": "07fa03ce-b44c-4b88-82c0-8fbdacfe7aeb",
   "metadata": {},
   "outputs": [],
   "source": [
    "lidar_angle_min, lidar_angle_max, lidar_angle_increment,\n",
    "lidar_range_min, lidar_range_max, lidar_ranges, lidar_stamps"
   ]
  },
  {
   "cell_type": "code",
   "execution_count": 23,
   "id": "8e528e7b-a5a4-47f6-a68a-3f71e1fac51b",
   "metadata": {},
   "outputs": [
    {
     "data": {
      "text/plain": [
       "array([[0.00436332]])"
      ]
     },
     "execution_count": 23,
     "metadata": {},
     "output_type": "execute_result"
    }
   ],
   "source": [
    "lidar_angle_increment"
   ]
  },
  {
   "cell_type": "code",
   "execution_count": 12,
   "id": "64096d8a-aa6d-494a-b487-913f7c45cbe0",
   "metadata": {},
   "outputs": [
    {
     "data": {
      "text/plain": [
       "array(0.1)"
      ]
     },
     "execution_count": 12,
     "metadata": {},
     "output_type": "execute_result"
    }
   ],
   "source": [
    "lidar_range_min"
   ]
  },
  {
   "cell_type": "code",
   "execution_count": 13,
   "id": "9b0a3a04-ad7e-4171-a8ca-6c4975c0b764",
   "metadata": {},
   "outputs": [
    {
     "data": {
      "text/plain": [
       "array(30)"
      ]
     },
     "execution_count": 13,
     "metadata": {},
     "output_type": "execute_result"
    }
   ],
   "source": [
    "lidar_range_max"
   ]
  },
  {
   "cell_type": "code",
   "execution_count": 15,
   "id": "91b1c4f8-2498-4d6d-955b-6379e31c179b",
   "metadata": {},
   "outputs": [
    {
     "data": {
      "text/plain": [
       "(1081, 4962)"
      ]
     },
     "execution_count": 15,
     "metadata": {},
     "output_type": "execute_result"
    }
   ],
   "source": [
    "lidar_ranges.shape"
   ]
  },
  {
   "cell_type": "code",
   "execution_count": 17,
   "id": "c7f8f29d-86e5-48b2-9b31-de26269ce827",
   "metadata": {},
   "outputs": [
    {
     "data": {
      "text/plain": [
       "(4962,)"
      ]
     },
     "execution_count": 17,
     "metadata": {},
     "output_type": "execute_result"
    }
   ],
   "source": [
    "lidar_stamps.shape"
   ]
  },
  {
   "cell_type": "code",
   "execution_count": 22,
   "id": "9c20599a-8bf5-4bde-a843-7d11d6a3b177",
   "metadata": {},
   "outputs": [
    {
     "data": {
      "text/plain": [
       "array([3.39400005, 3.39899993, 3.39899993, ..., 4.91900015, 4.91900015,\n",
       "       4.91900015])"
      ]
     },
     "execution_count": 22,
     "metadata": {},
     "output_type": "execute_result"
    }
   ],
   "source": [
    "lidar_ranges[:,2]"
   ]
  },
  {
   "cell_type": "code",
   "execution_count": 4,
   "id": "2f0f6d9f-5671-47f2-a7a0-042477ecbd22",
   "metadata": {},
   "outputs": [
    {
     "ename": "NameError",
     "evalue": "name 'lidar_angle_min' is not defined",
     "output_type": "error",
     "traceback": [
      "\u001b[0;31m---------------------------------------------------------------------------\u001b[0m",
      "\u001b[0;31mNameError\u001b[0m                                 Traceback (most recent call last)",
      "Cell \u001b[0;32mIn[4], line 1\u001b[0m\n\u001b[0;32m----> 1\u001b[0m lidarAzimuths \u001b[38;5;241m=\u001b[39m np\u001b[38;5;241m.\u001b[39marange(\u001b[43mlidar_angle_min\u001b[49m, lidar_angle_max \u001b[38;5;241m+\u001b[39m lidar_angle_increment\u001b[38;5;241m/\u001b[39m\u001b[38;5;241m2\u001b[39m , lidar_angle_increment)\n",
      "\u001b[0;31mNameError\u001b[0m: name 'lidar_angle_min' is not defined"
     ]
    }
   ],
   "source": [
    "lidarAzimuths = np.arange(lidar_angle_min, lidar_angle_max + lidar_angle_increment/2 , lidar_angle_increment)"
   ]
  },
  {
   "cell_type": "code",
   "execution_count": 26,
   "id": "a937d5e5-9a4a-48b5-b7c7-b80f1e78a7b9",
   "metadata": {},
   "outputs": [
    {
     "data": {
      "text/plain": [
       "array([-2.35619449, -2.35183117, -2.34746784, ...,  2.34746784,\n",
       "        2.35183117,  2.35619449])"
      ]
     },
     "execution_count": 26,
     "metadata": {},
     "output_type": "execute_result"
    }
   ],
   "source": [
    "lidarAzimuths"
   ]
  },
  {
   "cell_type": "code",
   "execution_count": 28,
   "id": "60eab9db-fdeb-45e6-b546-de9405faf1ce",
   "metadata": {},
   "outputs": [
    {
     "data": {
      "text/plain": [
       "270"
      ]
     },
     "execution_count": 28,
     "metadata": {},
     "output_type": "execute_result"
    }
   ],
   "source": [
    "135+135\n"
   ]
  },
  {
   "cell_type": "code",
   "execution_count": null,
   "id": "89aee109-df69-4db4-94a4-062df43f347a",
   "metadata": {},
   "outputs": [],
   "source": []
  }
 ],
 "metadata": {
  "kernelspec": {
   "display_name": "Python 3 (ipykernel)",
   "language": "python",
   "name": "python3"
  },
  "language_info": {
   "codemirror_mode": {
    "name": "ipython",
    "version": 3
   },
   "file_extension": ".py",
   "mimetype": "text/x-python",
   "name": "python",
   "nbconvert_exporter": "python",
   "pygments_lexer": "ipython3",
   "version": "3.11.9"
  }
 },
 "nbformat": 4,
 "nbformat_minor": 5
}
