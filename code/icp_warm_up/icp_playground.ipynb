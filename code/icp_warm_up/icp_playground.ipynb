{
 "cells": [
  {
   "cell_type": "code",
   "execution_count": null,
   "id": "72e8b8c9-86c7-4fdf-88d3-0186a5fffa25",
   "metadata": {},
   "outputs": [],
   "source": []
  },
  {
   "cell_type": "code",
   "execution_count": 1,
   "id": "2b2de9a5-e5da-4f21-91f8-a09aeb4faa06",
   "metadata": {},
   "outputs": [
    {
     "name": "stdout",
     "output_type": "stream",
     "text": [
      "Jupyter environment detected. Enabling Open3D WebVisualizer.\n",
      "[Open3D INFO] WebRTC GUI backend enabled.\n",
      "[Open3D INFO] WebRTCWindowSystem: HTTP handshake server disabled.\n"
     ]
    }
   ],
   "source": [
    "import numpy as np\n",
    "from utils import read_canonical_model, load_pc, visualize_icp_result\n",
    "\n",
    "obj_name = 'drill' # drill or liq_container\n",
    "num_pc = 4 # number of point clouds\n",
    "\n",
    "source_pc = read_canonical_model(obj_name, base_path=None)\n",
    "\n",
    "for i in range(num_pc):\n",
    "    target_pc = load_pc(obj_name, i, base_path=None)\n",
    "    break"
   ]
  },
  {
   "cell_type": "code",
   "execution_count": 7,
   "id": "c5dab59b-aa38-41a4-a543-8c3e82054889",
   "metadata": {},
   "outputs": [],
   "source": [
    "from sklearn.neighbors import NearestNeighbors\n",
    "\n",
    "def get_pose(init_R, init_P):\n",
    "    init_T= np.zeros([4,4])\n",
    "    init_T[:3,:3]= init_R\n",
    "    init_T[:, -1]= np.hstack((init_P, np.array([1])))\n",
    "    return init_T\n",
    "\n",
    "def get_R_and_P(T):\n",
    "    return T[:3,:3], T[:-1,-1]\n",
    "\n",
    "def get_pc_centroid(pc):\n",
    "    return pc.mean(axis=0)\n",
    "    \n",
    "def get_corres_points(target_pc_moved, source_pc):\n",
    "    kn_obj=NearestNeighbors(n_neighbors=1, algorithm='ball_tree').fit(target_pc_moved)\n",
    "    dist, idx= kn_obj.kneighbors(source_pc)\n",
    "    return np.sum(dist.flatten()), idx.flatten()\n",
    "\n",
    "def rotate_pc(R, pc):\n",
    "    return (R@ pc.T).T"
   ]
  },
  {
   "cell_type": "code",
   "execution_count": 18,
   "id": "bc52e486-134f-4f13-bac1-e8cdedccf8f7",
   "metadata": {},
   "outputs": [
    {
     "name": "stdout",
     "output_type": "stream",
     "text": [
      "\n",
      "\n",
      "###########################\n",
      "\n",
      "\n",
      "YAW_VALUE ::  0.0\n",
      "Initial R: \n",
      " [[ 1.  0.  0.]\n",
      " [ 0.  1.  0.]\n",
      " [-0.  0.  1.]]\n",
      "Initial P:  [-0.58054619 -0.0134431  -0.0444727 ]\n",
      "Initial Pose:\n",
      "  [[ 1.          0.          0.         -0.58054619]\n",
      " [ 0.          1.          0.         -0.0134431 ]\n",
      " [-0.          0.          1.         -0.0444727 ]\n",
      " [ 0.          0.          0.          1.        ]]\n",
      "58.986466887691705\n"
     ]
    },
    {
     "name": "stderr",
     "output_type": "stream",
     "text": [
      "  1%|▏         | 14/1000 [00:00<00:04, 244.37it/s]\n"
     ]
    },
    {
     "name": "stdout",
     "output_type": "stream",
     "text": [
      "[[ 0.54593535  0.76781114  0.33529189 -0.34407122]\n",
      " [-0.65175371  0.64066889 -0.40590699  0.39594481]\n",
      " [-0.52647099  0.00307124  0.85018755  0.26745378]\n",
      " [ 0.          0.          0.          1.        ]] 30.823011686799294\n",
      "\n",
      "\n",
      "###########################\n",
      "\n",
      "\n",
      "YAW_VALUE ::  1.5707963267948966\n",
      "Initial R: \n",
      " [[ 6.123234e-17 -1.000000e+00  0.000000e+00]\n",
      " [ 1.000000e+00  6.123234e-17  0.000000e+00]\n",
      " [-0.000000e+00  0.000000e+00  1.000000e+00]]\n",
      "Initial P:  [ 0.0134431  -0.58054619 -0.0444727 ]\n",
      "Initial Pose:\n",
      "  [[ 6.12323400e-17 -1.00000000e+00  0.00000000e+00  1.34431000e-02]\n",
      " [ 1.00000000e+00  6.12323400e-17  0.00000000e+00 -5.80546193e-01]\n",
      " [-0.00000000e+00  0.00000000e+00  1.00000000e+00 -4.44727001e-02]\n",
      " [ 0.00000000e+00  0.00000000e+00  0.00000000e+00  1.00000000e+00]]\n",
      "56.26765557558488\n"
     ]
    },
    {
     "name": "stderr",
     "output_type": "stream",
     "text": [
      "  2%|▏         | 15/1000 [00:00<00:03, 267.08it/s]\n"
     ]
    },
    {
     "name": "stdout",
     "output_type": "stream",
     "text": [
      "[[-0.47431601 -0.86513063 -0.16301325  0.29603772]\n",
      " [ 0.69615097 -0.48193048  0.53208725 -0.42835456]\n",
      " [-0.53888603  0.13889567  0.83084887  0.2733437 ]\n",
      " [ 0.          0.          0.          1.        ]] 29.150709749461345\n",
      "\n",
      "\n",
      "###########################\n",
      "\n",
      "\n",
      "YAW_VALUE ::  3.141592653589793\n",
      "Initial R: \n",
      " [[-1.0000000e+00 -1.2246468e-16  0.0000000e+00]\n",
      " [ 1.2246468e-16 -1.0000000e+00  0.0000000e+00]\n",
      " [-0.0000000e+00  0.0000000e+00  1.0000000e+00]]\n",
      "Initial P:  [ 0.58054619  0.0134431  -0.0444727 ]\n",
      "Initial Pose:\n",
      "  [[-1.00000000e+00 -1.22464680e-16  0.00000000e+00  5.80546193e-01]\n",
      " [ 1.22464680e-16 -1.00000000e+00  0.00000000e+00  1.34431000e-02]\n",
      " [-0.00000000e+00  0.00000000e+00  1.00000000e+00 -4.44727001e-02]\n",
      " [ 0.00000000e+00  0.00000000e+00  0.00000000e+00  1.00000000e+00]]\n",
      "57.194240123289525\n"
     ]
    },
    {
     "name": "stderr",
     "output_type": "stream",
     "text": [
      "  1%|▏         | 13/1000 [00:00<00:04, 236.79it/s]"
     ]
    },
    {
     "name": "stdout",
     "output_type": "stream",
     "text": [
      "[[-0.5631342  -0.74414436 -0.35934529  0.35531846]\n",
      " [ 0.61923064 -0.66794482  0.41279913 -0.3777121 ]\n",
      " [-0.54720497  0.00994369  0.83693957  0.28214317]\n",
      " [ 0.          0.          0.          1.        ]] 30.479983483035273\n",
      "\n",
      "\n",
      "###########################\n",
      "\n",
      "\n",
      "YAW_VALUE ::  4.71238898038469\n",
      "Initial R: \n",
      " [[-1.8369702e-16  1.0000000e+00 -0.0000000e+00]\n",
      " [-1.0000000e+00 -1.8369702e-16  0.0000000e+00]\n",
      " [-0.0000000e+00  0.0000000e+00  1.0000000e+00]]\n",
      "Initial P:  [-0.0134431   0.58054619 -0.0444727 ]\n",
      "Initial Pose:\n",
      "  [[-1.83697020e-16  1.00000000e+00 -0.00000000e+00 -1.34431000e-02]\n",
      " [-1.00000000e+00 -1.83697020e-16  0.00000000e+00  5.80546193e-01]\n",
      " [-0.00000000e+00  0.00000000e+00  1.00000000e+00 -4.44727001e-02]\n",
      " [ 0.00000000e+00  0.00000000e+00  0.00000000e+00  1.00000000e+00]]\n"
     ]
    },
    {
     "name": "stderr",
     "output_type": "stream",
     "text": [
      "\n"
     ]
    },
    {
     "name": "stdout",
     "output_type": "stream",
     "text": [
      "52.41570260537423\n"
     ]
    },
    {
     "name": "stderr",
     "output_type": "stream",
     "text": [
      "  2%|▏         | 15/1000 [00:00<00:03, 256.23it/s]"
     ]
    },
    {
     "name": "stdout",
     "output_type": "stream",
     "text": [
      "[[ 0.46917134  0.85968029  0.20205951 -0.29495304]\n",
      " [-0.70353383  0.50215055 -0.5028767   0.43165094]\n",
      " [-0.53377749  0.09377964  0.84040881  0.27308202]\n",
      " [ 0.          0.          0.          1.        ]] 26.8683687330237\n"
     ]
    },
    {
     "name": "stderr",
     "output_type": "stream",
     "text": [
      "\n"
     ]
    }
   ],
   "source": [
    "import transforms3d as t3d\n",
    "from tqdm import tqdm\n",
    "\n",
    "\n",
    "number_of_yaw_splits= 4\n",
    "yaw_split= (2*np.pi)/number_of_yaw_splits\n",
    "max_iters= 1000\n",
    "sampled_target_pc= target_pc[::10]\n",
    "sampled_source_pc= source_pc[::10]\n",
    "euclidean_dist= []\n",
    "best_pose=[]\n",
    "\n",
    "for ii in range(0, number_of_yaw_splits):\n",
    "    yaw_val= yaw_split*ii\n",
    "    print('\\n\\n###########################\\n\\n')\n",
    "    print(\"YAW_VALUE :: \", yaw_val)\n",
    "    init_R= t3d.euler.euler2mat(0,0, yaw_val)\n",
    "    init_p=  get_pc_centroid(source_pc)- get_pc_centroid(rotate_pc(init_R,target_pc) )\n",
    "    print(\"Initial R: \\n\",init_R)\n",
    "    print(\"Initial P: \",init_p)\n",
    "    init_T= get_pose(init_R, init_p)\n",
    "    print(\"Initial Pose:\\n \",init_T)\n",
    "    \n",
    "\n",
    "    moved_target_pc= rotate_pc(init_R, sampled_target_pc)+init_p\n",
    "    prev_euclidean_dist= 0\n",
    "    current_euclidean_dist=0\n",
    "    accumulated_pose = init_T\n",
    "    dist, corres_idxs = get_corres_points(moved_target_pc,sampled_source_pc)\n",
    "    print(dist)\n",
    "    dist_between_corresponding_pc_pts= np.linalg.norm(sampled_source_pc-moved_target_pc[corres_idxs],axis=1)\n",
    "    \n",
    "    filter_dist_threshold= 0.5\n",
    "    filtered_idx = np.where(dist_between_corresponding_pc_pts < filter_dist_threshold)\n",
    "    \n",
    "    sampled_source_pc=sampled_source_pc[filtered_idx]\n",
    "    moved_target_pc=moved_target_pc[corres_idxs][filtered_idx]\n",
    "    for itr in tqdm(range(max_iters)):\n",
    "        dist, corres_idxs = get_corres_points(moved_target_pc,sampled_source_pc)\n",
    "\n",
    "        #Kabasch stuff\n",
    "        src_centroid = get_pc_centroid(sampled_source_pc)\n",
    "        tar_centroid = get_pc_centroid(moved_target_pc)\n",
    "    \n",
    "        centered_sampled_source_pc= sampled_source_pc - src_centroid\n",
    "        centered_moved_target_pc= moved_target_pc- tar_centroid\n",
    "    \n",
    "        Q= np.matmul(centered_sampled_source_pc.transpose(), centered_moved_target_pc[corres_idxs])\n",
    "        U, S, Vt = np.linalg.svd(Q, full_matrices=True)\n",
    "        R= U@Vt\n",
    "        p= src_centroid - rotate_pc(R, tar_centroid)\n",
    "\n",
    "        pred_pose= get_pose(R,p)\n",
    "        accumulated_pose= pred_pose@accumulated_pose\n",
    "\n",
    "        moved_target_pc = rotate_pc( R, moved_target_pc) + p\n",
    "        if np.abs(dist-prev_euclidean_dist) < 1e-10:\n",
    "            best_dist= dist\n",
    "            break\n",
    "        prev_euclidean_dist = dist\n",
    "    print(accumulated_pose, best_dist)\n",
    "    euclidean_dist.append(best_dist)\n",
    "    best_pose.append(accumulated_pose)\n",
    "\n",
    "\n",
    "visualize_icp_result(source_pc, target_pc,best_pose[np.argmin(euclidean_dist)])"
   ]
  },
  {
   "cell_type": "code",
   "execution_count": 20,
   "id": "9ba60c69-1e05-4e5b-aa3c-3912577798ef",
   "metadata": {},
   "outputs": [
    {
     "data": {
      "text/plain": [
       "[30.823011686799294, 29.150709749461345, 30.479983483035273, 26.8683687330237]"
      ]
     },
     "execution_count": 20,
     "metadata": {},
     "output_type": "execute_result"
    }
   ],
   "source": [
    "euclidean_dist"
   ]
  },
  {
   "cell_type": "code",
   "execution_count": 13,
   "id": "fd607dee-ec3e-4546-a72c-c6f763f9c8bc",
   "metadata": {},
   "outputs": [
    {
     "data": {
      "text/plain": [
       "array([[ 0.54593535,  0.76781114,  0.33529189, -0.34407122],\n",
       "       [-0.65175371,  0.64066889, -0.40590699,  0.39594481],\n",
       "       [-0.52647099,  0.00307124,  0.85018755,  0.26745378],\n",
       "       [ 0.        ,  0.        ,  0.        ,  1.        ]])"
      ]
     },
     "execution_count": 13,
     "metadata": {},
     "output_type": "execute_result"
    }
   ],
   "source": [
    "accumulated_pose"
   ]
  },
  {
   "cell_type": "code",
   "execution_count": null,
   "id": "eb1ff3d9-90b6-45ac-b628-79bcfa97399d",
   "metadata": {},
   "outputs": [],
   "source": []
  }
 ],
 "metadata": {
  "kernelspec": {
   "display_name": "Python 3 (ipykernel)",
   "language": "python",
   "name": "python3"
  },
  "language_info": {
   "codemirror_mode": {
    "name": "ipython",
    "version": 3
   },
   "file_extension": ".py",
   "mimetype": "text/x-python",
   "name": "python",
   "nbconvert_exporter": "python",
   "pygments_lexer": "ipython3",
   "version": "3.11.9"
  }
 },
 "nbformat": 4,
 "nbformat_minor": 5
}
